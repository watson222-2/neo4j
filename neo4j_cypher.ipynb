{
 "cells": [
  {
   "cell_type": "markdown",
   "id": "7a6cff99-b971-477e-9a3b-6affc9297644",
   "metadata": {},
   "source": [
    "# Neo4J: Example of fictious bank clients"
   ]
  },
  {
   "cell_type": "markdown",
   "id": "0d8ada3c-1452-43cd-bc6e-16d9479888da",
   "metadata": {},
   "source": [
    "The following code templates have been accessed from: https://neo4j.com/docs/python-manual/current/"
   ]
  },
  {
   "cell_type": "code",
   "execution_count": 3,
   "id": "71f383d2-0e8b-44e0-b3ff-028b3e2bddcc",
   "metadata": {
    "tags": []
   },
   "outputs": [],
   "source": [
    "from neo4j import GraphDatabase\n",
    "import pandas as pd"
   ]
  },
  {
   "cell_type": "markdown",
   "id": "77411ce4-3f8c-4bf2-b598-8b5ba6f13a92",
   "metadata": {},
   "source": [
    "## Connect to the database"
   ]
  },
  {
   "cell_type": "code",
   "execution_count": 4,
   "id": "3536a06a-2967-4e30-96e4-a3f153cb6c53",
   "metadata": {
    "tags": []
   },
   "outputs": [],
   "source": [
    "# --- Run in Codespaces: ---\n",
    "URI = \"bolt://neo4j:7687\"\n",
    "\n",
    "# --- Run locally: ---\n",
    "# Install the required packages (requirements.txt)\n",
    "# Start Docker Desktop and create an image, e.g. through Anaconda prompt:\n",
    "# $ docker run -p7474:7474 -p7687:7687 -d -e NEO4J_AUTH=neo4j/secretgraph neo4j:latest\n",
    "# To access your graph over Neo4J Desktop: Start Neo4J Desktop --> Graph Apps (left navigation) --> Neo4j Browser --> type in the credentials (neo4j/secretgraph) --> connect --> bolt://localhost:7687\n",
    "# URI = \"neo4j://localhost\"\n",
    "\n",
    "AUTH = (\"neo4j\", \"secretgraph\")\n",
    "\n",
    "with GraphDatabase.driver(URI, auth=AUTH) as driver:\n",
    "    driver.verify_connectivity()"
   ]
  },
  {
   "cell_type": "markdown",
   "id": "d6a78915-e78a-48dc-9e11-0f17421e0c64",
   "metadata": {},
   "source": [
    "## Writing manually into Neo4J"
   ]
  },
  {
   "cell_type": "code",
   "execution_count": 3,
   "id": "5280b451-50ca-407e-9f75-ee646e8ca681",
   "metadata": {
    "tags": []
   },
   "outputs": [
    {
     "name": "stderr",
     "output_type": "stream",
     "text": [
      "/tmp/ipykernel_819/2632189726.py:1: DeprecationWarning: Using a driver after it has been closed is deprecated. Future versions of the driver will raise an error.\n",
      "  summary = driver.execute_query(\n"
     ]
    },
    {
     "name": "stdout",
     "output_type": "stream",
     "text": [
      "Created 1 nodes in 1614 ms.\n"
     ]
    }
   ],
   "source": [
    "summary = driver.execute_query(\n",
    "    \"CREATE (:Person {name: $name})\",\n",
    "    name=\"Alice\",\n",
    "    database_=\"neo4j\",\n",
    ").summary\n",
    "### summary appears two times, because '.summary' is a method that stores some metadata about the query execution. \n",
    "### The metadata includes the number of nodes created, the time it took to execute the query, and other information. \n",
    "\n",
    "print(\"Created {nodes_created} nodes in {time} ms.\".format(\n",
    "    nodes_created=summary.counters.nodes_created,\n",
    "    time=summary.result_available_after\n",
    "))\n",
    "### the '.format' method is used to format the output of the print statement. The curly braces {} are placeholders for the variables that are passed to the format() method.\n",
    "### The variables are then inserted into the placeholders in the order they are passed to\n",
    "\n",
    "###\n",
    "\n"
   ]
  },
  {
   "cell_type": "markdown",
   "id": "e2d743de-030d-4042-b3fc-fb8c43c18888",
   "metadata": {
    "tags": []
   },
   "source": [
    "## Writing manually to the database in Neo4j Browser:\n",
    "\n",
    "CREATE (:Person {name: 'Peter'})"
   ]
  },
  {
   "cell_type": "markdown",
   "id": "f5968d73-69cf-40eb-862a-b224dd0f23fb",
   "metadata": {},
   "source": [
    "## Querying"
   ]
  },
  {
   "cell_type": "code",
   "execution_count": 5,
   "id": "5a711531-bb1c-4ca4-9bf2-605a0d811472",
   "metadata": {
    "tags": []
   },
   "outputs": [
    {
     "name": "stderr",
     "output_type": "stream",
     "text": [
      "/tmp/ipykernel_18023/3877331262.py:1: DeprecationWarning: Using a driver after it has been closed is deprecated. Future versions of the driver will raise an error.\n",
      "  records, summary, keys = driver.execute_query(\n"
     ]
    },
    {
     "name": "stdout",
     "output_type": "stream",
     "text": [
      "{'name': 'Alice'}\n",
      "The query `MATCH (p:Person) RETURN p.name AS name` returned 1 records in 315 ms.\n"
     ]
    }
   ],
   "source": [
    "records, summary, keys = driver.execute_query(\n",
    "    \"MATCH (p:Person) RETURN p.name AS name\",\n",
    "    database_=\"neo4j\",\n",
    ")\n",
    "\n",
    "# Loop through results and do something with them\n",
    "for record in records:\n",
    "    print(record.data())  # obtain record as dict\n",
    "\n",
    "# Summary information\n",
    "print(\"The query `{query}` returned {records_count} records in {time} ms.\".format(\n",
    "    query=summary.query, records_count=len(records),\n",
    "    time=summary.result_available_after\n",
    "))"
   ]
  },
  {
   "cell_type": "markdown",
   "id": "c2920086-50f5-4826-b873-ef338753b02e",
   "metadata": {},
   "source": [
    "## Update the database"
   ]
  },
  {
   "cell_type": "code",
   "execution_count": 6,
   "id": "5aeef6db-fe49-4d79-a529-4612df49afb6",
   "metadata": {
    "tags": []
   },
   "outputs": [
    {
     "name": "stderr",
     "output_type": "stream",
     "text": [
      "/tmp/ipykernel_18023/3817737189.py:1: DeprecationWarning: Using a driver after it has been closed is deprecated. Future versions of the driver will raise an error.\n",
      "  records, summary, keys = driver.execute_query(\"\"\"\n"
     ]
    },
    {
     "name": "stdout",
     "output_type": "stream",
     "text": [
      "Query counters: {'_contains_updates': True, 'properties_set': 1}.\n"
     ]
    }
   ],
   "source": [
    "records, summary, keys = driver.execute_query(\"\"\"\n",
    "    MATCH (p:Person {name: $name})\n",
    "    SET p.age = $age\n",
    "    \"\"\", name=\"Alice\", age=42,\n",
    "    database_=\"neo4j\",\n",
    ")\n",
    "print(f\"Query counters: {summary.counters}.\")"
   ]
  },
  {
   "cell_type": "code",
   "execution_count": 7,
   "id": "826feb3e-39af-4ea7-9e13-cac700b40fc7",
   "metadata": {
    "tags": []
   },
   "outputs": [
    {
     "name": "stdout",
     "output_type": "stream",
     "text": [
      "Query counters: {}.\n"
     ]
    },
    {
     "name": "stderr",
     "output_type": "stream",
     "text": [
      "/tmp/ipykernel_18023/2454820279.py:1: DeprecationWarning: Using a driver after it has been closed is deprecated. Future versions of the driver will raise an error.\n",
      "  records, summary, keys = driver.execute_query(\"\"\"\n"
     ]
    }
   ],
   "source": [
    "records, summary, keys = driver.execute_query(\"\"\"\n",
    "    MATCH (alice:Person {name: $name})\n",
    "    MATCH (bob:Person {name: $friend})\n",
    "    CREATE (alice)-[:KNOWS]->(bob)\n",
    "    \"\"\", name=\"Alice\", friend=\"Bob\",\n",
    "    database_=\"neo4j\",\n",
    ")\n",
    "print(f\"Query counters: {summary.counters}.\")"
   ]
  },
  {
   "cell_type": "markdown",
   "id": "1d235bb4-cda3-4c8b-a354-fddfa976656e",
   "metadata": {},
   "source": [
    "## Delete from the database"
   ]
  },
  {
   "cell_type": "code",
   "execution_count": 8,
   "id": "96ad57e7-2588-43ca-9f46-d2e834f6ae6f",
   "metadata": {
    "tags": []
   },
   "outputs": [
    {
     "name": "stdout",
     "output_type": "stream",
     "text": [
      "Query counters: {'_contains_updates': True, 'nodes_deleted': 1}.\n"
     ]
    },
    {
     "name": "stderr",
     "output_type": "stream",
     "text": [
      "/tmp/ipykernel_18023/3368292491.py:1: DeprecationWarning: Using a driver after it has been closed is deprecated. Future versions of the driver will raise an error.\n",
      "  records, summary, keys = driver.execute_query(\"\"\"\n"
     ]
    }
   ],
   "source": [
    "records, summary, keys = driver.execute_query(\"\"\"\n",
    "    MATCH (p:Person {name: $name})\n",
    "    DETACH DELETE p\n",
    "    \"\"\", name=\"Alice\",\n",
    "    database_=\"neo4j\",\n",
    ")\n",
    "print(f\"Query counters: {summary.counters}.\")"
   ]
  },
  {
   "cell_type": "markdown",
   "id": "08ab0316-43c7-4338-a559-ff466185dea1",
   "metadata": {},
   "source": [
    "## Query parameters"
   ]
  },
  {
   "cell_type": "code",
   "execution_count": 9,
   "id": "7aafb623-8b1d-4430-8805-f4f2e4debe53",
   "metadata": {
    "tags": []
   },
   "outputs": [
    {
     "name": "stderr",
     "output_type": "stream",
     "text": [
      "/tmp/ipykernel_18023/926086447.py:1: DeprecationWarning: Using a driver after it has been closed is deprecated. Future versions of the driver will raise an error.\n",
      "  driver.execute_query(\n"
     ]
    },
    {
     "data": {
      "text/plain": [
       "EagerResult(records=[], summary=<neo4j._work.summary.ResultSummary object at 0x7c883f894bd0>, keys=[])"
      ]
     },
     "execution_count": 9,
     "metadata": {},
     "output_type": "execute_result"
    }
   ],
   "source": [
    "driver.execute_query(\n",
    "    \"MERGE (:Person {name: $name})\",\n",
    "    name=\"Alice\", age=42,\n",
    "    database_=\"neo4j\",\n",
    ")\n",
    "### title is somewhat misleading...? The \"merge\" command is used to create a new node if it does not already exist. \n",
    "### If the node already exists, the command will not create a new node.\n"
   ]
  },
  {
   "cell_type": "code",
   "execution_count": 9,
   "id": "b4766fcc-c0b7-4ac2-876b-a00923aba2b3",
   "metadata": {
    "tags": []
   },
   "outputs": [
    {
     "name": "stderr",
     "output_type": "stream",
     "text": [
      "C:\\Users\\pell\\AppData\\Local\\Temp\\ipykernel_32664\\1909268578.py:5: DeprecationWarning: Using a driver after it has been closed is deprecated. Future versions of the driver will raise an error.\n",
      "  driver.execute_query(\n"
     ]
    },
    {
     "data": {
      "text/plain": [
       "EagerResult(records=[], summary=<neo4j._work.summary.ResultSummary object at 0x000002B2F668A250>, keys=[])"
      ]
     },
     "execution_count": 9,
     "metadata": {},
     "output_type": "execute_result"
    }
   ],
   "source": [
    "### is this an alternative way of doing the above? I can see how far out this could be better integrated into a loop\n",
    "parameters = {\n",
    "    \"name\": \"Alice\",\n",
    "    \"age\": 42\n",
    "}\n",
    "driver.execute_query(\n",
    "    \"MERGE (:Person {name: $name})\",\n",
    "    parameters_=parameters,\n",
    "    database_=\"neo4j\",\n",
    ")"
   ]
  },
  {
   "cell_type": "markdown",
   "id": "6435b998-7a9d-4115-aab3-bb5aa45257f9",
   "metadata": {},
   "source": [
    "## Writing a CSV file into Neo4J"
   ]
  },
  {
   "cell_type": "code",
   "execution_count": 12,
   "id": "f3c31288-a48f-4d2e-95a3-419d8bb6dc1f",
   "metadata": {
    "tags": []
   },
   "outputs": [
    {
     "name": "stderr",
     "output_type": "stream",
     "text": [
      "C:\\Users\\pell\\AppData\\Local\\Temp\\ipykernel_32664\\3412886673.py:44: DeprecationWarning: write_transaction has been renamed to execute_write\n",
      "  session.write_transaction(create_clients_and_transactions, clients_df, transactions_df)\n"
     ]
    },
    {
     "name": "stdout",
     "output_type": "stream",
     "text": [
      "Data loaded into Neo4j successfully!\n"
     ]
    }
   ],
   "source": [
    "# Connection details\n",
    "\n",
    "# --- Run in Codespaces: ---\n",
    "URI = \"bolt://neo4j:7687\" # Replace with your Neo4j bolt URI\n",
    "\n",
    "# --- Run locally: ---\n",
    "#URI = \"neo4j://localhost\"\n",
    "\n",
    "username = \"neo4j\"  # Replace with your Neo4j username\n",
    "password = \"secretgraph\"  # Replace with your Neo4j password\n",
    "\n",
    "# Connect to the Neo4j database\n",
    "driver = GraphDatabase.driver(URI, auth=(username, password))\n",
    "\n",
    "def create_clients_and_transactions(tx, clients, transactions):\n",
    "    # Create client nodes\n",
    "    for client in clients['client_id']:\n",
    "        tx.run(\"MERGE (c:Client {client_id: $client_id})\", client_id=client)\n",
    "    \n",
    "    # Create transaction relationships (edges)\n",
    "    for index, row in transactions.iterrows():\n",
    "        tx.run(\n",
    "            \"\"\"\n",
    "            MATCH (c1:Client {client_id: $client1}), (c2:Client {client_id: $client2})\n",
    "            MERGE (c1)-[r:TRANSACTED_WITH {transactions: $transactions}]->(c2)\n",
    "            \"\"\", \n",
    "            client1=row['client1'], \n",
    "            client2=row['client2'], \n",
    "            transactions=row['transactions']\n",
    "        )\n",
    "\n",
    "# Load CSV data into pandas DataFrame\n",
    "\n",
    "# --- Run in Codespaces: ---\n",
    "clients_df = pd.read_csv('workspace/example_data/swiss_bank_clients.csv')  # Update with correct path\n",
    "transactions_df = pd.read_csv('workspace/example_data/swiss_bank_transactions.csv')  # Update with correct path\n",
    "\n",
    "# --- Run locally: ---\n",
    "# clients_df = pd.read_csv('example_data/swiss_bank_clients.csv')  # Update with correct path\n",
    "# transactions_df = pd.read_csv('example_data/swiss_bank_transactions.csv')  # Update with correct path\n",
    "\n",
    "# Load data into Neo4j\n",
    "with driver.session() as session:\n",
    "    session.write_transaction(create_clients_and_transactions, clients_df, transactions_df)\n",
    "\n",
    "# Close the driver connection\n",
    "driver.close()\n",
    "\n",
    "print(\"Data loaded into Neo4j successfully!\")\n"
   ]
  }
 ],
 "metadata": {
  "kernelspec": {
   "display_name": "Python 3 (ipykernel)",
   "language": "python",
   "name": "python3"
  },
  "language_info": {
   "codemirror_mode": {
    "name": "ipython",
    "version": 3
   },
   "file_extension": ".py",
   "mimetype": "text/x-python",
   "name": "python",
   "nbconvert_exporter": "python",
   "pygments_lexer": "ipython3",
   "version": "3.11.10"
  }
 },
 "nbformat": 4,
 "nbformat_minor": 5
}
